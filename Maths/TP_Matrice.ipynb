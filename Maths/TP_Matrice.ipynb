{
 "cells": [
  {
   "cell_type": "code",
   "execution_count": 5,
   "id": "a184e167-85c3-4d76-ae14-f2aa13c22e6b",
   "metadata": {},
   "outputs": [],
   "source": [
    "# Si des questions: email: carla.joud@univ-renne.fr\n",
    "\n",
    "#bibliothèques utilisées: \n",
    "import numpy as np  # permet d'effectuer des calculs numériques\n",
    "import matplotlib.pyplot as plt #permet de produire des graphes\n"
   ]
  },
  {
   "cell_type": "markdown",
   "id": "b9ea35aa-5f49-4a20-8ef4-cce04083f8de",
   "metadata": {},
   "source": [
    "# **TP : Méthode de la puissance itérée et méthode de déflation**"
   ]
  },
  {
   "cell_type": "markdown",
   "id": "1175d6f8",
   "metadata": {},
   "source": [
    "*Note : Merci de rédiger vos réponses dans des cellules de type \"Markdown\" situées sous les questions. Vous avez la possibilité d'utiliser du LaTeX et du formatage pour écrire vos réponses.*"
   ]
  },
  {
   "cell_type": "markdown",
   "id": "e54993f6-0413-49c0-9221-56990c6e37cb",
   "metadata": {},
   "source": [
    "## **I- Introduction et contexte**\n",
    "\n",
    "**1) Présenter le sujet, le contexte et l'objectif du TP**"
   ]
  },
  {
   "cell_type": "markdown",
   "id": "ddcd63f8",
   "metadata": {},
   "source": [
    "Le TP porte sur le calcul des valeurs propres d'une matrice diagonalisable à l'aide de méthodes numériques : la méthode de la puissance itérée et la méthode de déflation. L'objectif principal est de créer des algorithmes qui permettent d'estimer les valeurs propres de grandes matrices, afin de les diagonaliser."
   ]
  },
  {
   "cell_type": "markdown",
   "id": "d45e468f-dd73-4d78-a98c-455cea26a430",
   "metadata": {},
   "source": [
    "## **II- Méthode de la puissance itérée**\n",
    "\n",
    "Soit $A \\in \\mathcal{M}_{n,n}(\\mathbb{R})$ ( l'ensemble des matrices carrées de taille n à coefficients réels ), "
   ]
  },
  {
   "cell_type": "markdown",
   "id": "91bcfa2d",
   "metadata": {},
   "source": [
    "**2) À quoi sert cet algorithme ? Que prend-t-il-en entrée? Que renvoie-t-il?**"
   ]
  },
  {
   "cell_type": "markdown",
   "id": "46cdf43c",
   "metadata": {},
   "source": [
    "La méthode de la puissance itérée sert à estimer la plus grande valeur propre (en module) d'une matrice A. \n",
    "\n",
    "Elle prend en entrée :\n",
    "\n",
    "    - Une matrice A\n",
    "    - Un vecteur x0\n",
    "    - Un nombre maximal d'itérations maxIter\n",
    "\n",
    "Elle renvoie :\n",
    "\n",
    "    - Une approximation de la plus grande valeur propre,\n",
    "    - Le vecteur propre associé."
   ]
  },
  {
   "cell_type": "markdown",
   "id": "7f028b02-6eff-48bd-b9cc-485a2a108cfd",
   "metadata": {},
   "source": [
    "*Pour mieux comprendre*: l'idée derrière cette méthode est que, si on définit une suite $(x_n)$ de vecteurs de $\\mathbb{R}^{n} $ par la relation $ x_{n+1}=Ax_{n} $, alors les vecteurs $x_n$ vont \"se tourner\" au cours des itérations dans la direction des vecteurs propres associés à la plus grande des valeurs propres. "
   ]
  },
  {
   "cell_type": "markdown",
   "id": "e1ed7b5d",
   "metadata": {},
   "source": [
    "**3) Le fait de multiplier la suite itérativement par la matrice A pose un souci? Lequel? Et comment le régler?**"
   ]
  },
  {
   "cell_type": "markdown",
   "id": "180f7850",
   "metadata": {},
   "source": [
    "Les valeurs des vecteurs sont sucseptibles d'augmenter exponentiellement. Pour éviter ce problème, on normalise les vecteurs après chaque multiplication."
   ]
  },
  {
   "cell_type": "markdown",
   "id": "d70b5b6a",
   "metadata": {},
   "source": [
    "**4) Donner un pseudo-code de cette méthode en commentant et en n'oubliant pas la normalisation ( Voir le théorème donné dans le sujet du TP )**"
   ]
  },
  {
   "cell_type": "code",
   "execution_count": 6,
   "id": "2a6cf051-f730-4fbc-bdd1-9d024f4d2184",
   "metadata": {},
   "outputs": [
    {
     "ename": "SyntaxError",
     "evalue": "invalid syntax (1949689490.py, line 1)",
     "output_type": "error",
     "traceback": [
      "\u001b[1;36m  Cell \u001b[1;32mIn[6], line 1\u001b[1;36m\u001b[0m\n\u001b[1;33m    Pseudocode Puissance itérée\u001b[0m\n\u001b[1;37m               ^\u001b[0m\n\u001b[1;31mSyntaxError\u001b[0m\u001b[1;31m:\u001b[0m invalid syntax\n"
     ]
    }
   ],
   "source": [
    "Pseudocode Puissance itérée\n",
    "--------------------------------------------------\n",
    "Entrées: A, x0, Maxiter\n",
    "--------------------------------------------------\n",
    "x = A*x0 # initialisation\n",
    "ListeLambdasIter=[]; # Liste pour stocker les lambdas au cours des itérations\n",
    "ListeUIter=[]; # Liste pour stocker les valeurs d'approximation du vecteur propre associé à la plus grande valeur propre au cours des itérations\n",
    "\n",
    "for k=1:Maxiter\n",
    "\n",
    "    step 1: xk = A*x(k-1) \n",
    "\n",
    "    step 2: Un(k) = xk/||xk||\n",
    "\n",
    "    step 3 : lambdan(k) = (Un(k))^T * A*Un(k)\n",
    "\n",
    "    step 4: ListeLambdasIter=[ListeLambdasIter, lambdan(k)  ] #ajout à la liste des valeurs d'approximation du lambda max obtenues au cours des itération\n",
    "\n",
    "    step 5: ListeUIter= [ ListeUIter, xk ];                   #ajout à la liste des valeurs d'approximation du vecteur propre associé au lambda max obtenues au cours des itérations\n",
    "\n",
    "end\n",
    "------------------------------------------------------\n",
    "Sorties: ListeLambdasIter , ListeUIter\n",
    "------------------------------------------------------\n"
   ]
  },
  {
   "cell_type": "markdown",
   "id": "67926ba3",
   "metadata": {},
   "source": [
    "**Implémentez la fonction `PuissIter` en Python pour réaliser l'algorithme de la puissance itérée.**\n",
    "\n",
    "**Aide** :\n",
    "- Multiplication matricielle : `np.dot`\n",
    "- Norme d'un vecteur : `np.linalg.norm`\n",
    "- Transposée d'une matrice : `.T`\n",
    "\n",
    "**Instructions** :\n",
    "- Utilisez les fonctions numpy mentionnées pour coder l'algorithme de la puissance itérée.\n",
    "- Ajoutez des commentaires explicatifs pour chaque étape de votre code.\n"
   ]
  },
  {
   "cell_type": "code",
   "execution_count": 63,
   "id": "7e49dd7d-b151-410d-836f-a3d3999cfe24",
   "metadata": {},
   "outputs": [],
   "source": [
    "def PuissIter(A, x0, Maxiter):\n",
    "    '''\n",
    "    Comments: \n",
    "    Entrées: A : matrce que l'on cherche à diagonaliser, x0 : vecteur quelconque, Maxiter : nombre maximum d'itération tolérés\n",
    "    Sorties: lambda_max : plus grande valeur propre, uIter : Vecteur propre associé à cette valeur propre\n",
    "    '''\n",
    "    x = np.dot(A,x0)\n",
    "    ListeLambdasIter = []\n",
    "    ListeUIter = []\n",
    "    for k in range(Maxiter):\n",
    "        x = np.dot(A,x)                                   # Calcul du nouveau veteur x\n",
    "        uIter = x/np.linalg.norm(x)                       # Calcul du vecteur propre\n",
    "        L = np.dot(uIter.T ,np.dot(A,uIter))                    # Calcul de la valeur propre associée\n",
    "\n",
    "        ListeLambdasIter.append(L)                        # Ajout dans les différentes listes\n",
    "        ListeUIter.append(uIter)\n",
    "    \n",
    "    return ListeLambdasIter, ListeUIter"
   ]
  },
  {
   "cell_type": "markdown",
   "id": "5e192400",
   "metadata": {},
   "source": [
    "**5) Conclusion: Quel est son désavantage? avantage? les conditions du théorème pour l'appliquer sont fortes? faibles?**"
   ]
  },
  {
   "cell_type": "markdown",
   "id": "bcbf4c3d",
   "metadata": {},
   "source": [
    "Avantage : Simple à implémenter, rapide pour estimer la plus grande valeur propre.\n",
    "\n",
    "Désavantage : Ne fournit qu'une seule valeur propre et un vecteur propre associé. Ne fonctionne bien que si la plus grande valeur propre est bien distincte des autres.\n",
    "\n",
    "La condition sur la diagonalisation est plutot forte car elle impose que A soit diagonalisable.\n",
    "De même la condition sur la dominance de la plus grande valeur propre est plutot forte car elle impose que la plus grande valeur propre soit bien distincte des autres.\n",
    "A l'inverse, la condition sur le vecteur initiale est putot faible car il est assez rare d'avoir un vecteur qui soit orthogonale au vecteur propre associé à la plus grande valeur propre.\n",
    "\n",
    "Globalement, les conditions sur la diagonalisation et la dominance de la plus grande valeur propre sont plutot fortes et il est donc difficile de garantir que la méthode de la puissance itérée  fonctionne bien."
   ]
  },
  {
   "cell_type": "markdown",
   "id": "5799dc86-3f7b-49bd-8204-216f7af0b314",
   "metadata": {},
   "source": [
    "## III- Méthode de déflation"
   ]
  },
  {
   "cell_type": "markdown",
   "id": "c527dcb4",
   "metadata": {},
   "source": [
    "**6) À quoi sert cette méthode? Quel est son principe? Fournir un pseudo-code de cette méthode:**"
   ]
  },
  {
   "cell_type": "markdown",
   "id": "a57f1b21-21df-4a97-bd3f-f2a2301672a0",
   "metadata": {},
   "source": [
    "La méthode de déflation sert à estimer les autres valeurs propres d'une matrice après avoir trouvé la plus grande. Le principe consiste à construire une nouvelle matrice \n",
    "B = A - λuu^T, où λ est la valeur propre trouvée et u le vecteur propre associé."
   ]
  },
  {
   "cell_type": "code",
   "execution_count": null,
   "id": "0817e795-b4c9-4bf0-8ae4-13ddf6b8d60c",
   "metadata": {},
   "outputs": [],
   "source": [
    "---------------------------------------\n",
    "Pseudo Code\n",
    "---------------------------------------\n",
    "\n",
    "Entrées: A, x0, Maxiter\n",
    "---------------------------------------\n",
    "\n",
    "nb_vp = len(A)                  # nombre de valeurs propres à estimer\n",
    "ListeLambdasIter = []           # liste de valeurs propres\n",
    "ListeUIter = []                 # liste de vecteurs propres\n",
    "B = A.copy()                    # initialisation de B \n",
    "for k=1 : nb_vp\n",
    "    \n",
    "    lambdak, uk =PuissIter(B,x0,Maxiter)\n",
    "    ListeLambdasIter = [ListeLambdasIter, lambdak]\n",
    "    ListeUIter = [ListeUIter, uk]\n",
    "    B = B*uk*uk^T\n",
    "    \n",
    "end\n",
    "---------------------------------------\n",
    "Sorties : ListeLambdasIter, ListeUIters"
   ]
  },
  {
   "cell_type": "markdown",
   "id": "5f0a4c5f",
   "metadata": {},
   "source": [
    "**7) Donnez le code Python pour calculer toutes les valeurs propres d'une matrice en utilisant le principe de la déflation**\n",
    "\n",
    "**Aide** :\n",
    "- Pour calculer le produit $u u^T$, consultez la documentation de la fonction `np.outer`.\n",
    "- Remarque : Assurez-vous que $u u^T$ ait la même dimension que la matrice $A$ pour pouvoir réaliser l'opération $A - \\lambda_n u u^T$.\n",
    "\n",
    "**Instructions** :\n",
    "- Implémentez le code pour extraire toutes les valeurs propres de la matrice à l'aide de la déflation.\n",
    "- Expliquez chaque étape avec des commentaires dans le code.\n"
   ]
  },
  {
   "cell_type": "code",
   "execution_count": 74,
   "id": "c83d0af8-6176-4500-b94e-8096170fc519",
   "metadata": {},
   "outputs": [],
   "source": [
    "def Defl(A,x0,Maxiter):\n",
    "    '''\n",
    "    Comments\n",
    "    '''\n",
    "    n= A.shape[0] #nombre de valeurs propres à estimer\n",
    "    lambda_Glob=[] #Pour stocker les valeurs propres estimées\n",
    "    u_Glob=[]\n",
    "    B = A.copy()\n",
    "    for i in range(0,n):\n",
    "        x0 = np.random.rand(n)\n",
    "        x0 = x0 / np.linalg.norm(x0)\n",
    "        ListeLambdasIter,ListeUIter=PuissIter(B,x0,Maxiter)\n",
    "        lambdak = ListeLambdasIter[-1]\n",
    "        uk = ListeUIter[-1]\n",
    "        lambda_Glob.append(lambdak)\n",
    "        u_Glob.append(uk)\n",
    "        B= B - lambdak*np.outer(uk,uk.T) # mise à jour de B\n",
    "        \n",
    "    return lambda_Glob, u_Glob\n"
   ]
  },
  {
   "cell_type": "markdown",
   "id": "b99c76d2-5486-49b1-8632-d33dbecd0b93",
   "metadata": {},
   "source": [
    "## **IV- Mise en pratique sur un exemple**"
   ]
  },
  {
   "cell_type": "markdown",
   "id": "a85b3246",
   "metadata": {},
   "source": [
    "**Question 1 : Utilisez `np.linalg.eig` pour calculer et afficher les valeurs propres d'une matrice $A$, et affichez les 3 premières valeurs propres de $A$**"
   ]
  },
  {
   "cell_type": "code",
   "execution_count": 15,
   "id": "632d8b50",
   "metadata": {},
   "outputs": [
    {
     "name": "stdout",
     "output_type": "stream",
     "text": [
      "Les valeurs propres de A sont :\n",
      "Valeur propre numéro 1 : 9.99999999999191\n",
      "Valeur propre numéro 2 : 3.0000000000072933\n",
      "Valeur propre numéro 3 : 4.0000000000006635\n"
     ]
    }
   ],
   "source": [
    "A = np.array([[-261, 209, -49],\n",
    "              [-530, 422, -98],\n",
    "              [-800, 631, -144]])\n",
    "\n",
    "valpropres, vectpropres = np.linalg.eig(A)\n",
    "\n",
    "for idx, val in enumerate(valpropres):\n",
    "    print(\"Valeur propre numéro \" +  str(idx+1) + \" : \" + str(val))"
   ]
  },
  {
   "cell_type": "markdown",
   "id": "0ef4065d-05a3-407f-aa79-9be2ec21cd6e",
   "metadata": {},
   "source": [
    "**Question 2: Application de la fonction Puissance Itérée sur un exemple**"
   ]
  },
  {
   "cell_type": "code",
   "execution_count": 35,
   "id": "f3218981",
   "metadata": {},
   "outputs": [
    {
     "name": "stdout",
     "output_type": "stream",
     "text": [
      "Plus grand valeur propre : 10.000000000000652\n"
     ]
    }
   ],
   "source": [
    "x0 = np.random.rand(len(A)) #initialisation du vecteur x0 de façon aléatoire selon les dimensions de A\n",
    "x0= x0/np.linalg.norm(x0)## Normalisation du vecteur\n",
    "Maxiter =  100\n",
    "L_max,U_L  = PuissIter(A, x0, Maxiter)\n",
    "## afficher la dernière approximation de la valeur propre max de A ( le dernier élement d'un vecteur peut être obtenu avec \"[-1]\" )\n",
    "print(\"Plus grand valeur propre : \" + str(L_max[-1]))\n"
   ]
  },
  {
   "cell_type": "markdown",
   "id": "49bcd523",
   "metadata": {},
   "source": [
    "**Question 3 : Cette fois, faites varier la variable `MaxIter`, c'est-à-dire le nombre d'itérations choisi pour l'algorithme.**\n",
    "\n",
    "**Instructions** :\n",
    "- Représentez l'évolution de l'estimation de la plus grande valeur propre en fonction de la variable `MaxIter`.\n",
    "- Utilisez `plt.plot` pour afficher un graphique.\n",
    "- N'oubliez pas de légender le graphique et de lui donner un titre.\n"
   ]
  },
  {
   "cell_type": "code",
   "execution_count": 66,
   "id": "2d6148b4-f06a-465f-b296-1d8f8898d684",
   "metadata": {},
   "outputs": [],
   "source": [
    "def vary_Maxiter_and_plot(A, x0):\n",
    "    \n",
    "    ##Puiss Iter\n",
    "    ListeMaxIter = []\n",
    "    ListeLambdasFin = []\n",
    "    for i in range(1,11) :\n",
    "        ListeMaxIter+=[i]\n",
    "    for maxIter in ListeMaxIter:\n",
    "        ListeLambdas, u = PuissIter(A, x0, maxIter)\n",
    "        ListeLambdasFin+=[ListeLambdas[-1]]\n",
    "\n",
    "\n",
    "    # Visualisation des résultats:\n",
    "    plt.plot(ListeMaxIter ,ListeLambdasFin)\n",
    "    plt.xlabel(\"Maxiter\")\n",
    "    plt.ylabel(\"Valeur propre\")\n",
    "    plt.title(\"évolution de l'estimation de la plus grande valeur propre en fonction de la variable `MaxIter`.\")  \n",
    "    plt.show()\n"
   ]
  },
  {
   "cell_type": "code",
   "execution_count": 67,
   "id": "3619975e-0c45-4969-a7bc-526e25239314",
   "metadata": {},
   "outputs": [
    {
     "data": {
      "image/png": "[encoded data removed]",
      "text/plain": [
       "<Figure size 640x480 with 1 Axes>"
      ]
     },
     "metadata": {},
     "output_type": "display_data"
    }
   ],
   "source": [
    "# Afficher les résultats\n",
    "\n",
    "x0 = np.random.rand(len(A))\n",
    "x0 = x0 / np.linalg.norm(x0)\n",
    "vary_Maxiter_and_plot(A, x0)"
   ]
  },
  {
   "cell_type": "markdown",
   "id": "76062553",
   "metadata": {},
   "source": [
    "*Commentaires et analyses des résultats:* \n",
    "On remarque que ça tend très vite vers la valeur propre réel.\n",
    "\n"
   ]
  },
  {
   "cell_type": "markdown",
   "id": "2ff2ba16",
   "metadata": {},
   "source": [
    "**Question 4: Application de la fonction déflation sur un exemple.**\n"
   ]
  },
  {
   "cell_type": "code",
   "execution_count": 75,
   "id": "c6e8f817",
   "metadata": {},
   "outputs": [
    {
     "name": "stdout",
     "output_type": "stream",
     "text": [
      "Valeur propre numéro 1 : 9.999999999999977\n",
      "Valeur propre numéro 2 : 3.999999999996868\n",
      "Valeur propre numéro 3 : 3.00000000000316\n"
     ]
    }
   ],
   "source": [
    "Maxiter =  100\n",
    "lambda_Glob, u_Glob = Defl(A,x0,Maxiter)## afficher la dernière approximation de la valeur propre max de A ( le dernier élement d'un vecteur peut être obtenu avec \"[-1]\" )\n",
    "\n",
    "for idx, val in enumerate(lambda_Glob):\n",
    "    print(\"Valeur propre numéro \" +  str(idx+1) + \" : \" + str(val))"
   ]
  },
  {
   "cell_type": "markdown",
   "id": "88d2db4d",
   "metadata": {},
   "source": [
    "**Question 5: Représenter l'évolution des deux autres valeurs propres obtenues grâce à la méthode de la déflation en fonction de la variable \"MaxIter\".(cf. Question 3)**"
   ]
  },
  {
   "cell_type": "code",
   "execution_count": 76,
   "id": "9c3fa675",
   "metadata": {},
   "outputs": [],
   "source": [
    "def plot_deflation(A, x0):\n",
    "    ListeMaxIter = []\n",
    "    ListeLambdasFin = []\n",
    "    ListeLambdasFin2 = []\n",
    "    for i in range(1,11) :\n",
    "        ListeMaxIter+=[i]\n",
    "\n",
    "    for Maxiter in ListeMaxIter:\n",
    "        lambda_Glob, _ = Defl(A, x0, Maxiter)\n",
    "        # On suppose que lambda_Glob est trié du plus grand au plus petit\n",
    "        if len(lambda_Glob) >= 2:\n",
    "            ListeLambdasFin2.append(lambda_Glob[1])\n",
    "        if len(lambda_Glob) >= 3:\n",
    "            ListeLambdasFin2.append(lambda_Glob[2])\n",
    "\n",
    "    # Visualisation des résultats:\n",
    "    plt.plot(ListeMaxIter, ListeLambdasFin, label='valeur propre N°2')\n",
    "    plt.plot(ListeMaxIter, ListeLambdasFin2, label='valeur propre N°3')\n",
    "    plt.xlabel(\"Maxiter\")\n",
    "    plt.ylabel(\"Valeur propre\")\n",
    "    plt.title(\"évolution de l'estimation de la plus grande valeur propre en fonction de la variable `MaxIter`.\")  \n",
    "    plt.show()"
   ]
  },
  {
   "cell_type": "markdown",
   "id": "117152bb",
   "metadata": {},
   "source": [
    "**Question 6: Comparer les résultats obtenus avec ceux de la première question ( avec \"np.linalg.eig\" ) et la convergence des valeurs propres au cours des itérations**"
   ]
  },
  {
   "cell_type": "code",
   "execution_count": 79,
   "id": "b9d3f53c-924a-4892-b240-01a10493adad",
   "metadata": {},
   "outputs": [
    {
     "name": "stdout",
     "output_type": "stream",
     "text": [
      "Valeurs propres np.linalg.eig : [10.  4.  3.]\n",
      "Valeurs propres déflation : [10.  4.  3.]\n"
     ]
    }
   ],
   "source": [
    "ValeurPropres = np.sort(np.abs(np.linalg.eigvals(A)))[::-1]\n",
    "\n",
    "lambda_Glob_tri = np.sort(np.abs(lambda_Glob))[::-1]\n",
    "\n",
    "print(\"Valeurs propres np.linalg.eig :\", ValeurPropres)\n",
    "print(\"Valeurs propres déflation :\", lambda_Glob_tri)"
   ]
  },
  {
   "cell_type": "markdown",
   "id": "d76b1fed",
   "metadata": {},
   "source": [
    "**Question 7 : Modifiez la fonction `PuissIter` pour que le critère d'arrêt de l'algorithme ne soit pas le nombre d'itérations `MaxIter`, mais plutôt la différence (notée `Tol`) entre les normes de $x_{k+1}$ et $x_k$.**\n",
    "\n",
    "**Instructions** :\n",
    "- Modifiez la fonction `PuissIter` pour qu'elle utilise la différence entre les normes de $x_{k+1}$ et $x_k$ comme critère d'arrêt.\n",
    "- Utilisez une boucle `while` pour implémenter cette condition d'arrêt.\n",
    "\n",
    "**Aide Python** :\n",
    "- Consultez la documentation de la structure de contrôle `while`.\n"
   ]
  },
  {
   "cell_type": "code",
   "execution_count": 80,
   "id": "109b609c-b628-495b-a33f-aabc844b6628",
   "metadata": {},
   "outputs": [],
   "source": [
    "def PuissIter_Tol(A, x0, Tol):\n",
    "\n",
    "    u = x0.copy()\n",
    "    ListeLambdasIter = []\n",
    "    ListeUIter = []\n",
    "    diff = 0\n",
    "\n",
    "    while diff > Tol:\n",
    "        xk = np.dot(A, x)\n",
    "        u = xk / np.linalg.norm(xk)\n",
    "        lambdak = np.dot(u.T, np.dot(A, u))\n",
    "        ListeLambdasIter.append(lambdak)\n",
    "        ListeUIter.append(u)\n",
    "        diff = np.abs(np.linalg.norm(u) - np.linalg.norm(x0))\n",
    "        x0 = u.copy()\n",
    "\n",
    "    return ListeLambdasIter, ListeUIter\n"
   ]
  },
  {
   "cell_type": "markdown",
   "id": "83e8614c-96cf-497b-9f7f-b883c464820f",
   "metadata": {},
   "source": [
    "**Commentaires sur ce critère d'arrêt? Sa sensibilité? Son utilité?**"
   ]
  },
  {
   "cell_type": "markdown",
   "id": "11c6841c",
   "metadata": {},
   "source": [
    "Le critère d’arrêt permet de contrôler la précision de l’approximation puisque l’algorithme s’arrêtera lorsque deux vecteurs consécutifs présentent une différence négligeable. Ce critère est sensible à la tolérance Tol, si celle-ci est trop grande, l’algorithme peut s’arrêter trop tôt, si elle est trop petite, le nombre d’itérations sera élevé. "
   ]
  },
  {
   "cell_type": "markdown",
   "id": "b7e2f331",
   "metadata": {},
   "source": [
    "**Question 8 : Modifiez la fonction `PuissIter` pour que les deux critères d'arrêt précédents soient pris en compte simultanément.**\n",
    "\n",
    "**Instructions** :\n",
    "- Modifiez la fonction `PuissIter` afin qu'elle s'arrête si l'un des deux critères suivants est atteint :\n",
    "  - Le nombre d'itérations `MaxIter`.\n",
    "  - La différence (notée `Tol`) entre les normes de $x_{k+1}$ et $x_k$.\n",
    "\n",
    "**Aide Python** :\n",
    "- Utilisez l'opérateur logique `and` pour que les deux conditions soient évaluées ensemble.\n",
    "\n"
   ]
  },
  {
   "cell_type": "code",
   "execution_count": 81,
   "id": "2b2b6552-bf0b-4ef5-8ad7-419f29963e91",
   "metadata": {},
   "outputs": [],
   "source": [
    "def PuissIter_Tol_MaxIter(A, x0, Tol, Maxiter):\n",
    "\n",
    "    u = x0.copy()\n",
    "    ListeLambdasIter = []\n",
    "    ListeUIter = []\n",
    "    diff = 0\n",
    "    i = 0\n",
    "\n",
    "    while diff > Tol and i<Maxiter:\n",
    "        xk = np.dot(A, x)\n",
    "        u = xk / np.linalg.norm(xk)\n",
    "        lambdak = np.dot(u.T, np.dot(A, u))\n",
    "        ListeLambdasIter.append(lambdak)\n",
    "        ListeUIter.append(u)\n",
    "        diff = np.abs(np.linalg.norm(u) - np.linalg.norm(x0))\n",
    "        x0 = u.copy()\n",
    "        i+=1\n",
    "\n",
    "    return ListeLambdasIter, ListeUIter"
   ]
  },
  {
   "cell_type": "markdown",
   "id": "8a913c49-db6e-42f9-9ce9-d69a34abd99e",
   "metadata": {},
   "source": [
    "**Commentaires sur cette combinaison ?  Son utilité?**"
   ]
  },
  {
   "cell_type": "markdown",
   "id": "afdfbe2d",
   "metadata": {},
   "source": [
    "La combinaison des deux critères d’arrêt amène à garantir que l’algorithme s’arrête soit si ça converge (différence < ‘Tol’), soit à l’itération numéro max, évitant ainsi les possibles boucles infinies, et proposant un bon équilibre entre précision et temps de calcul. "
   ]
  },
  {
   "cell_type": "markdown",
   "id": "d4dc75dd-2d13-4de1-afb6-216100a737de",
   "metadata": {},
   "source": [
    "## **5- Conclusion**\n",
    "\n",
    "**Conclure le TP et donner un exemple d'application de la méthode de la Puissance itérée, comment elle est utile à cette application?**"
   ]
  },
  {
   "cell_type": "markdown",
   "id": "7ff3eb48",
   "metadata": {},
   "source": [
    "Ce TP a présenté la méthode de la puissance itérée pour estimer la plus grande valeur propre d'une matrice, et la méthode de déflation pour calculer les valeurs propres restantes. Ces méthodes sont simples à implémenter, efficaces pour les grandes matrices. Bien que la convergence dépende de la dominance des valeurs propres, elles offrent un bon compromis entre précision et coût de calcul."
   ]
  },
  {
   "cell_type": "markdown",
   "id": "0195e2d2",
   "metadata": {},
   "source": [
    "\n",
    "**FIN**"
   ]
  }
 ],
 "metadata": {
  "kernelspec": {
   "display_name": "Python 3",
   "language": "python",
   "name": "python3"
  },
  "language_info": {
   "codemirror_mode": {
    "name": "ipython",
    "version": 3
   },
   "file_extension": ".py",
   "mimetype": "text/x-python",
   "name": "python",
   "nbconvert_exporter": "python",
   "pygments_lexer": "ipython3",
   "version": "3.11.9"
  }
 },
 "nbformat": 4,
 "nbformat_minor": 5
}
